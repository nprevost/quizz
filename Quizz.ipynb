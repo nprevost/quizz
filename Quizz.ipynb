{
  "nbformat": 4,
  "nbformat_minor": 0,
  "metadata": {
    "colab": {
      "provenance": []
    },
    "kernelspec": {
      "name": "python3",
      "display_name": "Python 3"
    },
    "language_info": {
      "name": "python"
    }
  },
  "cells": [
    {
      "cell_type": "code",
      "source": [
        "class Quizz():\n",
        "  def __init__(self, nb_de_chances):\n",
        "    self.nb_de_chances = nb_de_chances\n",
        "\n",
        "    print(\"Voici notre quiz, tu as {} chances !\".format(self.nb_de_chances))\n",
        "\n",
        "  def question(self, questions):\n",
        "\n",
        "    for key, question in questions.items():\n",
        "      if self.nb_de_chances > 0:\n",
        "        question1= input(question[\"Q\"])\n",
        "        while question1 != question[\"R\"]:\n",
        "          self.nb_de_chances -= 1\n",
        "          print(\"Dommage ! Il te reste {} chances\".format(self.nb_de_chances))\n",
        "          if self.nb_de_chances == 0:\n",
        "            print(\"Oh non ! Tu as perdu le jeu...\")\n",
        "            break\n",
        "          question1 = input(question[\"Q\"])\n",
        "\n",
        "    if self.nb_de_chances > 0:\n",
        "      print(\"Bravo ! Tu as gagné le quiz !\")\n",
        "\n",
        "quizz1 = Quizz(3)\n",
        "\n",
        "questions = {\"question1\": {\"Q\": \"Combien de fois la France a gagné la coupe du monde ? \", \"R\": \"2\"},\n",
        "             \"question2\": {\"Q\": \"Quand a été fondé Apple ? \", \"R\": \"1976\"},\n",
        "             \"question3\": {\"Q\": \"Qui a fondé SpaceX ? \", \"R\": \"elon musk\"}}\n",
        "\n",
        "quizz1.question(questions)"
      ],
      "metadata": {
        "colab": {
          "base_uri": "https://localhost:8080/"
        },
        "id": "sP_hK7m_nllQ",
        "outputId": "0416da88-d29a-4a6d-9bba-5d1ff8c83e23"
      },
      "execution_count": 17,
      "outputs": [
        {
          "output_type": "stream",
          "name": "stdout",
          "text": [
            "Voici notre quiz, tu as 3 chances !\n",
            "<class 'dict'>\n",
            "Combien de fois la France a gagné la coupe du monde ? 2\n",
            "Quand a été fondé Apple ? 1976\n",
            "Qui a fondé SpaceX ? e\n",
            "Dommage ! Il te reste 2 chances\n",
            "Qui a fondé SpaceX ? elon\n",
            "Dommage ! Il te reste 1 chances\n",
            "Qui a fondé SpaceX ? elon musk\n",
            "1\n",
            "Bravo ! Tu as gagné le quiz !\n"
          ]
        }
      ]
    }
  ]
}